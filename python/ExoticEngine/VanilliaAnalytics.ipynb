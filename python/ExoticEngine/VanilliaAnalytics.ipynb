{
 "cells": [
  {
   "attachments": {},
   "cell_type": "markdown",
   "metadata": {
    "collapsed": false
   },
   "source": [
    "### Pricing Vanilla Options using an Exotic Engine\n",
    "Features:\n",
    "1. Able to price different payoffs (non-path dependent)\n",
    "2. Supports different termination conditions (convergence, std err, path count)\n",
    "3. Able to return results statistics (covergence, std err etc)\n",
    "4. Easy to extend to support different simulation model (e.g. stochastic rate/vol)"
   ]
  },
  {
   "cell_type": "code",
   "execution_count": 1,
   "metadata": {
    "ExecuteTime": {
     "end_time": "2023-06-21T21:38:00.806450Z",
     "start_time": "2023-06-21T21:37:59.936996Z"
    },
    "collapsed": false
   },
   "outputs": [],
   "source": [
    "import sys\n",
    "from pathlib import Path\n",
    "\n",
    "def get_project_root() -> Path:\n",
    "    return Path.cwd().parent\n",
    "\n",
    "sys.path.append(str(get_project_root()))\n",
    "\n",
    "import numpy as np\n",
    "import matplotlib.pyplot as plt\n",
    "\n",
    "from ExoticEngine.Payoff import Options as O\n",
    "from ExoticEngine.Statistics import Statistics as Stats\n",
    "from ExoticEngine.Statistics import RandomNumberGenerators as RNG\n",
    "from ExoticEngine.MonteCarloEngine import SimulationModel as Sim\n",
    "from ExoticEngine.MonteCarloEngine import VanillaPricer as Pricer\n",
    "from ExoticEngine.MarketDataObject import Parameter as P\n"
   ]
  },
  {
   "cell_type": "code",
   "execution_count": 2,
   "metadata": {
    "ExecuteTime": {
     "end_time": "2023-06-21T21:38:00.810349Z",
     "start_time": "2023-06-21T21:38:00.807692Z"
    },
    "collapsed": false
   },
   "outputs": [],
   "source": [
    "# MC termination\n",
    "condition = Stats.ConditionType(\"PATH_COUNT\")\n",
    "criteria = 25000\n",
    "\n",
    "# market observable\n",
    "rate = 0.05\n",
    "vol = 0.1\n",
    "\n",
    "# option expiry\n",
    "expiry = 5.0\n",
    "\n",
    "# vanilla call/put\n",
    "strike = 100.\n",
    "\n",
    "# double digital\n",
    "lower = 50.\n",
    "upper = 100."
   ]
  },
  {
   "cell_type": "code",
   "execution_count": 3,
   "metadata": {
    "ExecuteTime": {
     "end_time": "2023-06-21T21:38:00.813582Z",
     "start_time": "2023-06-21T21:38:00.810761Z"
    },
    "collapsed": false
   },
   "outputs": [],
   "source": [
    "random_number_type = RNG.RandomNumberType(\"PSEUDO_RANDOM\")\n",
    "TestRNG = RNG.TestRandom(random_number_type=random_number_type)"
   ]
  },
  {
   "cell_type": "code",
   "execution_count": 4,
   "metadata": {
    "ExecuteTime": {
     "end_time": "2023-06-21T21:38:00.816958Z",
     "start_time": "2023-06-21T21:38:00.814394Z"
    },
    "collapsed": false
   },
   "outputs": [],
   "source": [
    "rate_dynamics = lambda t: rate\n",
    "vol_dynamics = lambda t: vol\n",
    "repo_dynamics = lambda t: 0\n",
    "div_dynamics = lambda t: 0\n",
    "\n",
    "Rate = P.Parameter(param=rate_dynamics)\n",
    "Vol = P.Parameter(param=vol_dynamics)\n",
    "Repo = P.Parameter(param=repo_dynamics)\n",
    "Div = P.Parameter(param=div_dynamics)"
   ]
  },
  {
   "attachments": {},
   "cell_type": "markdown",
   "metadata": {
    "collapsed": false
   },
   "source": [
    "Visualising GBM distribution"
   ]
  },
  {
   "cell_type": "code",
   "execution_count": 5,
   "metadata": {
    "ExecuteTime": {
     "end_time": "2023-06-21T21:38:01.343901Z",
     "start_time": "2023-06-21T21:38:00.868134Z"
    },
    "collapsed": false
   },
   "outputs": [
    {
     "data": {
      "image/png": "[encoded data removed]",
      "text/plain": [
       "<Figure size 640x480 with 1 Axes>"
      ]
     },
     "metadata": {},
     "output_type": "display_data"
    }
   ],
   "source": [
    "eq_spot = 100\n",
    "\n",
    "S_t = []\n",
    "EqModel = Sim.BSModel(eq_spot, Rate, Repo, Div, Vol, TestRNG)\n",
    "for i in range(10000):\n",
    "    S_t.append(EqModel.sde(0, expiry) + eq_spot)\n",
    "\n",
    "plt.figure()\n",
    "plt.hist(S_t, bins=60, alpha=0.7)\n",
    "plt.show()"
   ]
  },
  {
   "attachments": {},
   "cell_type": "markdown",
   "metadata": {
    "collapsed": false
   },
   "source": [
    "Pricing"
   ]
  },
  {
   "cell_type": "code",
   "execution_count": 6,
   "metadata": {
    "ExecuteTime": {
     "end_time": "2023-06-21T21:38:03.529778Z",
     "start_time": "2023-06-21T21:38:01.410279Z"
    },
    "collapsed": false
   },
   "outputs": [
    {
     "name": "stdout",
     "output_type": "stream",
     "text": [
      "\n"
     ]
    },
    {
     "name": "stdout",
     "output_type": "stream",
     "text": [
      "WARNING! Maximum number of paths reached: path_count=25001, max_path=25000\n",
      "\n",
      "WARNING! Maximum number of paths reached: path_count=25001, max_path=25000\n",
      "\n",
      "WARNING! Maximum number of paths reached: path_count=25001, max_path=25000\n",
      "\n",
      "WARNING! Maximum number of paths reached: path_count=25001, max_path=25000\n",
      "\n",
      "WARNING! Maximum number of paths reached: path_count=25001, max_path=25000\n",
      "\n",
      "WARNING! Maximum number of paths reached: path_count=25001, max_path=25000\n",
      "\n",
      "WARNING! Maximum number of paths reached: path_count=25001, max_path=25000\n",
      "\n",
      "WARNING! Maximum number of paths reached: path_count=25001, max_path=25000\n",
      "\n",
      "WARNING! Maximum number of paths reached: path_count=25001, max_path=25000\n",
      "\n",
      "WARNING! Maximum number of paths reached: path_count=25001, max_path=25000\n",
      "\n",
      "WARNING! Maximum number of paths reached: path_count=25001, max_path=25000\n",
      "\n",
      "WARNING! Maximum number of paths reached: path_count=25001, max_path=25000\n",
      "\n",
      "WARNING! Maximum number of paths reached: path_count=25001, max_path=25000\n",
      "\n",
      "WARNING! Maximum number of paths reached: path_count=25001, max_path=25000\n",
      "\n",
      "WARNING! Maximum number of paths reached: path_count=25001, max_path=25000\n",
      "\n",
      "WARNING! Maximum number of paths reached: path_count=25001, max_path=25000\n",
      "\n",
      "WARNING! Maximum number of paths reached: path_count=25001, max_path=25000\n",
      "\n",
      "WARNING! Maximum number of paths reached: path_count=25001, max_path=25000\n",
      "\n",
      "WARNING! Maximum number of paths reached: path_count=25001, max_path=25000\n",
      "\n",
      "WARNING! Maximum number of paths reached: path_count=25001, max_path=25000\n",
      "\n",
      "WARNING! Maximum number of paths reached: path_count=25001, max_path=25000\n",
      "\n",
      "WARNING! Maximum number of paths reached: path_count=25001, max_path=25000\n",
      "\n",
      "WARNING! Maximum number of paths reached: path_count=25001, max_path=25000\n",
      "\n",
      "WARNING! Maximum number of paths reached: path_count=25001, max_path=25000\n",
      "\n",
      "WARNING! Maximum number of paths reached: path_count=25001, max_path=25000\n",
      "\n",
      "WARNING! Maximum number of paths reached: path_count=25001, max_path=25000\n",
      "\n",
      "WARNING! Maximum number of paths reached: path_count=25001, max_path=25000\n",
      "\n",
      "WARNING! Maximum number of paths reached: path_count=25001, max_path=25000\n",
      "\n",
      "WARNING! Maximum number of paths reached: path_count=25001, max_path=25000\n",
      "\n",
      "WARNING! Maximum number of paths reached: path_count=25001, max_path=25000\n",
      "\n",
      "WARNING! Maximum number of paths reached: path_count=25001, max_path=25000\n",
      "\n",
      "WARNING! Maximum number of paths reached: path_count=25001, max_path=25000\n",
      "\n",
      "WARNING! Maximum number of paths reached: path_count=25001, max_path=25000\n",
      "\n",
      "WARNING! Maximum number of paths reached: path_count=25001, max_path=25000\n",
      "\n",
      "WARNING! Maximum number of paths reached: path_count=25001, max_path=25000\n",
      "\n",
      "WARNING! Maximum number of paths reached: path_count=25001, max_path=25000\n",
      "\n",
      "WARNING! Maximum number of paths reached: path_count=25001, max_path=25000\n",
      "\n",
      "WARNING! Maximum number of paths reached: path_count=25001, max_path=25000\n",
      "\n",
      "WARNING! Maximum number of paths reached: path_count=25001, max_path=25000\n",
      "\n",
      "WARNING! Maximum number of paths reached: path_count=25001, max_path=25000\n",
      "\n",
      "WARNING! Maximum number of paths reached: path_count=25001, max_path=25000\n",
      "\n",
      "WARNING! Maximum number of paths reached: path_count=25001, max_path=25000\n",
      "\n",
      "WARNING! Maximum number of paths reached: path_count=25001, max_path=25000\n",
      "\n",
      "WARNING! Maximum number of paths reached: path_count=25001, max_path=25000\n",
      "\n",
      "WARNING! Maximum number of paths reached: path_count=25001, max_path=25000\n",
      "\n",
      "WARNING! Maximum number of paths reached: path_count=25001, max_path=25000\n",
      "\n",
      "WARNING! Maximum number of paths reached: path_count=25001, max_path=25000\n",
      "\n",
      "WARNING! Maximum number of paths reached: path_count=25001, max_path=25000\n",
      "\n",
      "WARNING! Maximum number of paths reached: path_count=25001, max_path=25000\n",
      "\n",
      "WARNING! Maximum number of paths reached: path_count=25001, max_path=25000\n",
      "\n",
      "WARNING! Maximum number of paths reached: path_count=25001, max_path=25000\n",
      "\n",
      "WARNING! Maximum number of paths reached: path_count=25001, max_path=25000\n",
      "\n",
      "WARNING! Maximum number of paths reached: path_count=25001, max_path=25000\n",
      "\n",
      "WARNING! Maximum number of paths reached: path_count=25001, max_path=25000\n",
      "\n",
      "WARNING! Maximum number of paths reached: path_count=25001, max_path=25000\n",
      "\n",
      "WARNING! Maximum number of paths reached: path_count=25001, max_path=25000\n",
      "\n",
      "WARNING! Maximum number of paths reached: path_count=25001, max_path=25000\n",
      "\n",
      "WARNING! Maximum number of paths reached: path_count=25001, max_path=25000\n",
      "\n",
      "WARNING! Maximum number of paths reached: path_count=25001, max_path=25000\n",
      "\n",
      "WARNING! Maximum number of paths reached: path_count=25001, max_path=25000\n",
      "\n",
      "WARNING! Maximum number of paths reached: path_count=25001, max_path=25000\n",
      "\n",
      "WARNING! Maximum number of paths reached: path_count=25001, max_path=25000\n",
      "\n",
      "WARNING! Maximum number of paths reached: path_count=25001, max_path=25000\n",
      "\n",
      "WARNING! Maximum number of paths reached: path_count=25001, max_path=25000\n",
      "\n",
      "WARNING! Maximum number of paths reached: path_count=25001, max_path=25000\n",
      "\n",
      "WARNING! Maximum number of paths reached: path_count=25001, max_path=25000\n",
      "\n",
      "WARNING! Maximum number of paths reached: path_count=25001, max_path=25000\n",
      "\n",
      "WARNING! Maximum number of paths reached: path_count=25001, max_path=25000\n",
      "\n",
      "WARNING! Maximum number of paths reached: path_count=25001, max_path=25000\n",
      "\n",
      "WARNING! Maximum number of paths reached: path_count=25001, max_path=25000\n",
      "\n",
      "WARNING! Maximum number of paths reached: path_count=25001, max_path=25000\n",
      "\n",
      "WARNING! Maximum number of paths reached: path_count=25001, max_path=25000\n",
      "\n",
      "WARNING! Maximum number of paths reached: path_count=25001, max_path=25000\n",
      "\n",
      "WARNING! Maximum number of paths reached: path_count=25001, max_path=25000\n",
      "\n",
      "WARNING! Maximum number of paths reached: path_count=25001, max_path=25000\n",
      "\n",
      "WARNING! Maximum number of paths reached: path_count=25001, max_path=25000\n",
      "\n",
      "WARNING! Maximum number of paths reached: path_count=25001, max_path=25000\n",
      "\n",
      "WARNING! Maximum number of paths reached: path_count=25001, max_path=25000\n",
      "\n",
      "WARNING! Maximum number of paths reached: path_count=25001, max_path=25000\n",
      "\n",
      "WARNING! Maximum number of paths reached: path_count=25001, max_path=25000\n",
      "\n",
      "WARNING! Maximum number of paths reached: path_count=25001, max_path=25000\n",
      "\n",
      "WARNING! Maximum number of paths reached: path_count=25001, max_path=25000\n",
      "\n",
      "WARNING! Maximum number of paths reached: path_count=25001, max_path=25000\n",
      "\n",
      "WARNING! Maximum number of paths reached: path_count=25001, max_path=25000\n",
      "\n",
      "WARNING! Maximum number of paths reached: path_count=25001, max_path=25000\n",
      "\n",
      "WARNING! Maximum number of paths reached: path_count=25001, max_path=25000\n",
      "\n",
      "WARNING! Maximum number of paths reached: path_count=25001, max_path=25000\n",
      "\n",
      "WARNING! Maximum number of paths reached: path_count=25001, max_path=25000\n",
      "\n",
      "WARNING! Maximum number of paths reached: path_count=25001, max_path=25000\n",
      "\n",
      "WARNING! Maximum number of paths reached: path_count=25001, max_path=25000\n",
      "\n",
      "WARNING! Maximum number of paths reached: path_count=25001, max_path=25000\n",
      "\n",
      "WARNING! Maximum number of paths reached: path_count=25001, max_path=25000\n",
      "\n",
      "WARNING! Maximum number of paths reached: path_count=25001, max_path=25000\n",
      "\n",
      "WARNING! Maximum number of paths reached: path_count=25001, max_path=25000\n",
      "\n",
      "WARNING! Maximum number of paths reached: path_count=25001, max_path=25000\n",
      "\n",
      "WARNING! Maximum number of paths reached: path_count=25001, max_path=25000\n",
      "\n",
      "WARNING! Maximum number of paths reached: path_count=25001, max_path=25000\n",
      "\n",
      "WARNING! Maximum number of paths reached: path_count=25001, max_path=25000\n",
      "\n",
      "WARNING! Maximum number of paths reached: path_count=25001, max_path=25000\n",
      "\n",
      "WARNING! Maximum number of paths reached: path_count=25001, max_path=25000\n"
     ]
    }
   ],
   "source": [
    "spots = np.linspace(1., 150., 100)\n",
    "\n",
    "call_theory = []\n",
    "call_price = []\n",
    "call_std_err = []\n",
    "\n",
    "put_theory = []\n",
    "put_price = []\n",
    "put_std_err = []\n",
    "\n",
    "double_digital_price = []\n",
    "double_digital_std_err = []\n",
    "\n",
    "# Vanilla Call\n",
    "CallPayoff = O.PayOffCall(strike=strike)\n",
    "CallOption = O.VanillaOption(CallPayoff, expiry=expiry)\n",
    "for S in spots:\n",
    "    EqModel = Sim.BSModel(spot=S, r=Rate, repo_rate=Repo, div_yield=Div, vol=Vol, RNG=TestRNG)\n",
    "    TerminationCondition = Stats.TerminationCondition(condition=condition,\n",
    "                                                      criteria=criteria)\n",
    "    ResultStatistics = Stats.GetStatistics(termination_condition=TerminationCondition)\n",
    "\n",
    "    pricer = Pricer.VanillaMCPricer(option=CallOption, rate=Rate, sim_model=EqModel,\n",
    "                                           result_collector=ResultStatistics, num_cores=2)\n",
    "    pricer.price()\n",
    "    call_price.append(pricer.stats.get_mean())\n",
    "    call_std_err.append(pricer.stats.get_std_err())\n",
    "    call_theory.append(Pricer.BS_CALL(S=S, K=strike, T=expiry, r=rate, sigma=vol))\n",
    "\n",
    "# # Vanilla Put\n",
    "# PutPayoff = O.PayOffPut(strike=strike)\n",
    "# PutOption = O.VanillaOption(PutPayoff, expiry=expiry)\n",
    "# for S in spots:\n",
    "#     EqModel = Sim.BSModel(spot=S, r=Rate, repo_rate=Repo, div_yield=Div, vol=Vol, RNG=TestRNG)\n",
    "#     TerminationCondition = Stats.TerminationCondition(condition=condition,\n",
    "#                                                       criteria=criteria)\n",
    "#     ResultStatistics = Stats.GetStatistics(termination_condition=TerminationCondition)\n",
    "\n",
    "#     pricer = Pricer.VanillaMCPricer(option=PutOption, rate=Rate, sim_model=EqModel,\n",
    "#                                            result_collector=ResultStatistics)\n",
    "#     pricer.price()\n",
    "#     put_price.append(pricer.stats.get_mean())\n",
    "#     put_std_err.append(pricer.stats.get_std_err())\n",
    "#     put_theory.append(Pricer.BS_PUT(S=S, K=strike, T=expiry, r=rate, sigma=vol))\n",
    "\n",
    "# # Double digital\n",
    "# DDPayoff = O.PayOffDoubleDigital(upper=upper, lower=lower)\n",
    "# DDOption = O.VanillaOption(DDPayoff, expiry=expiry)\n",
    "# for S in spots:\n",
    "#     EqModel = Sim.BSModel(spot=S, r=Rate, repo_rate=Repo, div_yield=Div, vol=Vol, RNG=TestRNG)\n",
    "#     TerminationCondition = Stats.TerminationCondition(condition=condition,\n",
    "#                                                       criteria=criteria)\n",
    "#     ResultStatistics = Stats.GetStatistics(termination_condition=TerminationCondition)\n",
    "#     pricer = Pricer.VanillaMCPricer(option=DDOption, rate=Rate, sim_model=EqModel,\n",
    "#                                            result_collector=ResultStatistics)\n",
    "#     pricer.price()\n",
    "#     double_digital_price.append(pricer.stats.get_mean())\n",
    "#     double_digital_std_err.append(pricer.stats.get_std_err())"
   ]
  },
  {
   "attachments": {},
   "cell_type": "markdown",
   "metadata": {
    "collapsed": false
   },
   "source": [
    "Plotting"
   ]
  },
  {
   "cell_type": "code",
   "execution_count": 10,
   "metadata": {
    "ExecuteTime": {
     "end_time": "2023-06-21T21:38:03.534051Z",
     "start_time": "2023-06-21T21:38:03.531687Z"
    },
    "collapsed": false
   },
   "outputs": [],
   "source": [
    "def plot_price_as_function_of_spot(spots: list[float],\n",
    "                                   theory: list[float] | None,\n",
    "                                   emp_prices: list[float],\n",
    "                                   sems: list[float],\n",
    "                                   title: str):\n",
    "    upper_bound = [m + sems[i] for i, m in enumerate(emp_prices)]\n",
    "    lower_bound = [m - sems[i] for i, m in enumerate(emp_prices)]\n",
    "\n",
    "    plt.figure()\n",
    "    plt.title(title)\n",
    "    if theory:\n",
    "        plt.plot(spots, theory, label=\"theoretical\", color=\"gold\", alpha=.8)\n",
    "    plt.plot(spots, emp_prices, label=\"numerical\", color=\"royalblue\")\n",
    "    plt.fill_between(spots, upper_bound, lower_bound, color='skyblue', alpha=.5, label=r\"$\\pm 1$ std err\")\n",
    "    plt.xlabel(\"Spot\")\n",
    "    plt.legend()\n",
    "    plt.show()"
   ]
  },
  {
   "cell_type": "code",
   "execution_count": 11,
   "metadata": {
    "ExecuteTime": {
     "end_time": "2023-06-21T21:38:03.747428Z",
     "start_time": "2023-06-21T21:38:03.536270Z"
    },
    "collapsed": false
   },
   "outputs": [
    {
     "data": {
      "image/png": "[encoded data removed]",
      "text/plain": [
       "<Figure size 640x480 with 1 Axes>"
      ]
     },
     "metadata": {},
     "output_type": "display_data"
    }
   ],
   "source": [
    "title = \"{0}: K={1}, r={2:.2f}, vol={3:.2f}\".format(\"Call\", strike, rate, vol)\n",
    "plot_price_as_function_of_spot(spots=spots,\n",
    "                               theory=call_theory,\n",
    "                               emp_prices=call_price,\n",
    "                               sems=call_std_err,\n",
    "                               title=title)"
   ]
  },
  {
   "cell_type": "code",
   "execution_count": 9,
   "metadata": {
    "ExecuteTime": {
     "end_time": "2023-06-21T21:38:03.916917Z",
     "start_time": "2023-06-21T21:38:03.750642Z"
    },
    "collapsed": false
   },
   "outputs": [
    {
     "ename": "ValueError",
     "evalue": "x and y must have same first dimension, but have shapes (100,) and (0,)",
     "output_type": "error",
     "traceback": [
      "\u001b[0;31m---------------------------------------------------------------------------\u001b[0m",
      "\u001b[0;31mValueError\u001b[0m                                Traceback (most recent call last)",
      "Cell \u001b[0;32mIn[9], line 2\u001b[0m\n\u001b[1;32m      1\u001b[0m title \u001b[39m=\u001b[39m \u001b[39m\"\u001b[39m\u001b[39m{0}\u001b[39;00m\u001b[39m: K=\u001b[39m\u001b[39m{1}\u001b[39;00m\u001b[39m, r=\u001b[39m\u001b[39m{2:.2f}\u001b[39;00m\u001b[39m, vol=\u001b[39m\u001b[39m{3:.2f}\u001b[39;00m\u001b[39m\"\u001b[39m\u001b[39m.\u001b[39mformat(\u001b[39m\"\u001b[39m\u001b[39mPut\u001b[39m\u001b[39m\"\u001b[39m, strike, rate, vol)\n\u001b[0;32m----> 2\u001b[0m plot_price_as_function_of_spot(spots\u001b[39m=\u001b[39;49mspots,\n\u001b[1;32m      3\u001b[0m                                theory\u001b[39m=\u001b[39;49mput_theory,\n\u001b[1;32m      4\u001b[0m                                emp_prices\u001b[39m=\u001b[39;49mput_price,\n\u001b[1;32m      5\u001b[0m                                sems\u001b[39m=\u001b[39;49mput_std_err,\n\u001b[1;32m      6\u001b[0m                                title\u001b[39m=\u001b[39;49mtitle)\n",
      "Cell \u001b[0;32mIn[7], line 13\u001b[0m, in \u001b[0;36mplot_price_as_function_of_spot\u001b[0;34m(spots, theory, emp_prices, sems, title)\u001b[0m\n\u001b[1;32m     11\u001b[0m \u001b[39mif\u001b[39;00m theory:\n\u001b[1;32m     12\u001b[0m     plt\u001b[39m.\u001b[39mplot(spots, theory, label\u001b[39m=\u001b[39m\u001b[39m\"\u001b[39m\u001b[39mtheoretical\u001b[39m\u001b[39m\"\u001b[39m, color\u001b[39m=\u001b[39m\u001b[39m\"\u001b[39m\u001b[39mgold\u001b[39m\u001b[39m\"\u001b[39m, alpha\u001b[39m=\u001b[39m\u001b[39m.8\u001b[39m)\n\u001b[0;32m---> 13\u001b[0m plt\u001b[39m.\u001b[39;49mplot(spots, emp_prices, label\u001b[39m=\u001b[39;49m\u001b[39m\"\u001b[39;49m\u001b[39mnumerical\u001b[39;49m\u001b[39m\"\u001b[39;49m, color\u001b[39m=\u001b[39;49m\u001b[39m\"\u001b[39;49m\u001b[39mroyalblue\u001b[39;49m\u001b[39m\"\u001b[39;49m)\n\u001b[1;32m     14\u001b[0m plt\u001b[39m.\u001b[39mfill_between(spots, upper_bound, lower_bound, color\u001b[39m=\u001b[39m\u001b[39m'\u001b[39m\u001b[39mskyblue\u001b[39m\u001b[39m'\u001b[39m, alpha\u001b[39m=\u001b[39m\u001b[39m.5\u001b[39m, label\u001b[39m=\u001b[39m\u001b[39mr\u001b[39m\u001b[39m\"\u001b[39m\u001b[39m$\u001b[39m\u001b[39m\\\u001b[39m\u001b[39mpm 1$ std err\u001b[39m\u001b[39m\"\u001b[39m)\n\u001b[1;32m     15\u001b[0m plt\u001b[39m.\u001b[39mxlabel(\u001b[39m\"\u001b[39m\u001b[39mSpot\u001b[39m\u001b[39m\"\u001b[39m)\n",
      "File \u001b[0;32m~/.local/lib/python3.10/site-packages/matplotlib/pyplot.py:2812\u001b[0m, in \u001b[0;36mplot\u001b[0;34m(scalex, scaley, data, *args, **kwargs)\u001b[0m\n\u001b[1;32m   2810\u001b[0m \u001b[39m@_copy_docstring_and_deprecators\u001b[39m(Axes\u001b[39m.\u001b[39mplot)\n\u001b[1;32m   2811\u001b[0m \u001b[39mdef\u001b[39;00m \u001b[39mplot\u001b[39m(\u001b[39m*\u001b[39margs, scalex\u001b[39m=\u001b[39m\u001b[39mTrue\u001b[39;00m, scaley\u001b[39m=\u001b[39m\u001b[39mTrue\u001b[39;00m, data\u001b[39m=\u001b[39m\u001b[39mNone\u001b[39;00m, \u001b[39m*\u001b[39m\u001b[39m*\u001b[39mkwargs):\n\u001b[0;32m-> 2812\u001b[0m     \u001b[39mreturn\u001b[39;00m gca()\u001b[39m.\u001b[39;49mplot(\n\u001b[1;32m   2813\u001b[0m         \u001b[39m*\u001b[39;49margs, scalex\u001b[39m=\u001b[39;49mscalex, scaley\u001b[39m=\u001b[39;49mscaley,\n\u001b[1;32m   2814\u001b[0m         \u001b[39m*\u001b[39;49m\u001b[39m*\u001b[39;49m({\u001b[39m\"\u001b[39;49m\u001b[39mdata\u001b[39;49m\u001b[39m\"\u001b[39;49m: data} \u001b[39mif\u001b[39;49;00m data \u001b[39mis\u001b[39;49;00m \u001b[39mnot\u001b[39;49;00m \u001b[39mNone\u001b[39;49;00m \u001b[39melse\u001b[39;49;00m {}), \u001b[39m*\u001b[39;49m\u001b[39m*\u001b[39;49mkwargs)\n",
      "File \u001b[0;32m~/.local/lib/python3.10/site-packages/matplotlib/axes/_axes.py:1688\u001b[0m, in \u001b[0;36mAxes.plot\u001b[0;34m(self, scalex, scaley, data, *args, **kwargs)\u001b[0m\n\u001b[1;32m   1445\u001b[0m \u001b[39m\u001b[39m\u001b[39m\"\"\"\u001b[39;00m\n\u001b[1;32m   1446\u001b[0m \u001b[39mPlot y versus x as lines and/or markers.\u001b[39;00m\n\u001b[1;32m   1447\u001b[0m \n\u001b[0;32m   (...)\u001b[0m\n\u001b[1;32m   1685\u001b[0m \u001b[39m(``'green'``) or hex strings (``'#008000'``).\u001b[39;00m\n\u001b[1;32m   1686\u001b[0m \u001b[39m\"\"\"\u001b[39;00m\n\u001b[1;32m   1687\u001b[0m kwargs \u001b[39m=\u001b[39m cbook\u001b[39m.\u001b[39mnormalize_kwargs(kwargs, mlines\u001b[39m.\u001b[39mLine2D)\n\u001b[0;32m-> 1688\u001b[0m lines \u001b[39m=\u001b[39m [\u001b[39m*\u001b[39m\u001b[39mself\u001b[39m\u001b[39m.\u001b[39m_get_lines(\u001b[39m*\u001b[39margs, data\u001b[39m=\u001b[39mdata, \u001b[39m*\u001b[39m\u001b[39m*\u001b[39mkwargs)]\n\u001b[1;32m   1689\u001b[0m \u001b[39mfor\u001b[39;00m line \u001b[39min\u001b[39;00m lines:\n\u001b[1;32m   1690\u001b[0m     \u001b[39mself\u001b[39m\u001b[39m.\u001b[39madd_line(line)\n",
      "File \u001b[0;32m~/.local/lib/python3.10/site-packages/matplotlib/axes/_base.py:311\u001b[0m, in \u001b[0;36m_process_plot_var_args.__call__\u001b[0;34m(self, data, *args, **kwargs)\u001b[0m\n\u001b[1;32m    309\u001b[0m     this \u001b[39m+\u001b[39m\u001b[39m=\u001b[39m args[\u001b[39m0\u001b[39m],\n\u001b[1;32m    310\u001b[0m     args \u001b[39m=\u001b[39m args[\u001b[39m1\u001b[39m:]\n\u001b[0;32m--> 311\u001b[0m \u001b[39myield from\u001b[39;00m \u001b[39mself\u001b[39;49m\u001b[39m.\u001b[39;49m_plot_args(\n\u001b[1;32m    312\u001b[0m     this, kwargs, ambiguous_fmt_datakey\u001b[39m=\u001b[39;49mambiguous_fmt_datakey)\n",
      "File \u001b[0;32m~/.local/lib/python3.10/site-packages/matplotlib/axes/_base.py:504\u001b[0m, in \u001b[0;36m_process_plot_var_args._plot_args\u001b[0;34m(self, tup, kwargs, return_kwargs, ambiguous_fmt_datakey)\u001b[0m\n\u001b[1;32m    501\u001b[0m     \u001b[39mself\u001b[39m\u001b[39m.\u001b[39maxes\u001b[39m.\u001b[39myaxis\u001b[39m.\u001b[39mupdate_units(y)\n\u001b[1;32m    503\u001b[0m \u001b[39mif\u001b[39;00m x\u001b[39m.\u001b[39mshape[\u001b[39m0\u001b[39m] \u001b[39m!=\u001b[39m y\u001b[39m.\u001b[39mshape[\u001b[39m0\u001b[39m]:\n\u001b[0;32m--> 504\u001b[0m     \u001b[39mraise\u001b[39;00m \u001b[39mValueError\u001b[39;00m(\u001b[39mf\u001b[39m\u001b[39m\"\u001b[39m\u001b[39mx and y must have same first dimension, but \u001b[39m\u001b[39m\"\u001b[39m\n\u001b[1;32m    505\u001b[0m                      \u001b[39mf\u001b[39m\u001b[39m\"\u001b[39m\u001b[39mhave shapes \u001b[39m\u001b[39m{\u001b[39;00mx\u001b[39m.\u001b[39mshape\u001b[39m}\u001b[39;00m\u001b[39m and \u001b[39m\u001b[39m{\u001b[39;00my\u001b[39m.\u001b[39mshape\u001b[39m}\u001b[39;00m\u001b[39m\"\u001b[39m)\n\u001b[1;32m    506\u001b[0m \u001b[39mif\u001b[39;00m x\u001b[39m.\u001b[39mndim \u001b[39m>\u001b[39m \u001b[39m2\u001b[39m \u001b[39mor\u001b[39;00m y\u001b[39m.\u001b[39mndim \u001b[39m>\u001b[39m \u001b[39m2\u001b[39m:\n\u001b[1;32m    507\u001b[0m     \u001b[39mraise\u001b[39;00m \u001b[39mValueError\u001b[39;00m(\u001b[39mf\u001b[39m\u001b[39m\"\u001b[39m\u001b[39mx and y can be no greater than 2D, but have \u001b[39m\u001b[39m\"\u001b[39m\n\u001b[1;32m    508\u001b[0m                      \u001b[39mf\u001b[39m\u001b[39m\"\u001b[39m\u001b[39mshapes \u001b[39m\u001b[39m{\u001b[39;00mx\u001b[39m.\u001b[39mshape\u001b[39m}\u001b[39;00m\u001b[39m and \u001b[39m\u001b[39m{\u001b[39;00my\u001b[39m.\u001b[39mshape\u001b[39m}\u001b[39;00m\u001b[39m\"\u001b[39m)\n",
      "\u001b[0;31mValueError\u001b[0m: x and y must have same first dimension, but have shapes (100,) and (0,)"
     ]
    },
    {
     "data": {
      "image/png": "[encoded data removed]",
      "text/plain": [
       "<Figure size 640x480 with 1 Axes>"
      ]
     },
     "metadata": {},
     "output_type": "display_data"
    }
   ],
   "source": [
    "title = \"{0}: K={1}, r={2:.2f}, vol={3:.2f}\".format(\"Put\", strike, rate, vol)\n",
    "plot_price_as_function_of_spot(spots=spots,\n",
    "                               theory=put_theory,\n",
    "                               emp_prices=put_price,\n",
    "                               sems=put_std_err,\n",
    "                               title=title)"
   ]
  },
  {
   "cell_type": "code",
   "execution_count": null,
   "metadata": {
    "ExecuteTime": {
     "end_time": "2023-06-21T21:38:04.090018Z",
     "start_time": "2023-06-21T21:38:03.933747Z"
    },
    "collapsed": false
   },
   "outputs": [],
   "source": [
    "title = \"{0}: lower={1}, upper={2}, r={3:.2f}, vol={4:.2f}\".format(\"DoubleDigital\", lower, upper, rate, vol)\n",
    "plot_price_as_function_of_spot(spots=spots,\n",
    "                               theory=None,\n",
    "                               emp_prices=double_digital_price,\n",
    "                               sems=double_digital_std_err,\n",
    "                               title=title)"
   ]
  }
 ],
 "metadata": {
  "kernelspec": {
   "display_name": "Python 3",
   "language": "python",
   "name": "python3"
  },
  "language_info": {
   "codemirror_mode": {
    "name": "ipython",
    "version": 3
   },
   "file_extension": ".py",
   "mimetype": "text/x-python",
   "name": "python",
   "nbconvert_exporter": "python",
   "pygments_lexer": "ipython3",
   "version": "3.10.6"
  }
 },
 "nbformat": 4,
 "nbformat_minor": 0
}
